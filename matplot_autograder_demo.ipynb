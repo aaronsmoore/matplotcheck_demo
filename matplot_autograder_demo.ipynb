{
 "cells": [
  {
   "cell_type": "markdown",
   "id": "e2c1a02c-8971-4760-9d60-1b4add1cc94d",
   "metadata": {},
   "source": [
    "# Autograding `matplotlib` plots with `matplotcheck` and `otter`"
   ]
  },
  {
   "cell_type": "code",
   "execution_count": null,
   "id": "65023f72-ff81-4b3d-9d1c-34571944d939",
   "metadata": {},
   "outputs": [],
   "source": [
    "! pip install pandas --q\n",
    "! pip install matplotlib --q\n",
    "! pip install otter-grader --q\n",
    "! pip install matplotcheck -- q"
   ]
  },
  {
   "cell_type": "code",
   "execution_count": 5,
   "id": "2298764b-50a2-40ed-90c1-4ae3e04ebad2",
   "metadata": {
    "tags": []
   },
   "outputs": [],
   "source": [
    "import matplotlib.pyplot as plt\n",
    "import matplotcheck.base as mpc\n",
    "import matplotcheck.notebook as nb\n",
    "import pandas as pd"
   ]
  },
  {
   "cell_type": "code",
   "execution_count": 9,
   "id": "f84bd202-f84d-433e-b8f2-ccd218e347e7",
   "metadata": {
    "tags": []
   },
   "outputs": [],
   "source": [
    "tips = pd.read_csv(\"https://raw.githubusercontent.com/mwaskom/seaborn-data/master/tips.csv\")"
   ]
  },
  {
   "cell_type": "code",
   "execution_count": 10,
   "id": "2b82ded5-84df-4f21-aafd-1b7c2e4f03cf",
   "metadata": {
    "tags": []
   },
   "outputs": [
    {
     "data": {
      "text/html": [
       "<div>\n",
       "<style scoped>\n",
       "    .dataframe tbody tr th:only-of-type {\n",
       "        vertical-align: middle;\n",
       "    }\n",
       "\n",
       "    .dataframe tbody tr th {\n",
       "        vertical-align: top;\n",
       "    }\n",
       "\n",
       "    .dataframe thead th {\n",
       "        text-align: right;\n",
       "    }\n",
       "</style>\n",
       "<table border=\"1\" class=\"dataframe\">\n",
       "  <thead>\n",
       "    <tr style=\"text-align: right;\">\n",
       "      <th></th>\n",
       "      <th>total_bill</th>\n",
       "      <th>tip</th>\n",
       "      <th>sex</th>\n",
       "      <th>smoker</th>\n",
       "      <th>day</th>\n",
       "      <th>time</th>\n",
       "      <th>size</th>\n",
       "    </tr>\n",
       "  </thead>\n",
       "  <tbody>\n",
       "    <tr>\n",
       "      <th>0</th>\n",
       "      <td>16.99</td>\n",
       "      <td>1.01</td>\n",
       "      <td>Female</td>\n",
       "      <td>No</td>\n",
       "      <td>Sun</td>\n",
       "      <td>Dinner</td>\n",
       "      <td>2</td>\n",
       "    </tr>\n",
       "    <tr>\n",
       "      <th>1</th>\n",
       "      <td>10.34</td>\n",
       "      <td>1.66</td>\n",
       "      <td>Male</td>\n",
       "      <td>No</td>\n",
       "      <td>Sun</td>\n",
       "      <td>Dinner</td>\n",
       "      <td>3</td>\n",
       "    </tr>\n",
       "    <tr>\n",
       "      <th>2</th>\n",
       "      <td>21.01</td>\n",
       "      <td>3.50</td>\n",
       "      <td>Male</td>\n",
       "      <td>No</td>\n",
       "      <td>Sun</td>\n",
       "      <td>Dinner</td>\n",
       "      <td>3</td>\n",
       "    </tr>\n",
       "    <tr>\n",
       "      <th>3</th>\n",
       "      <td>23.68</td>\n",
       "      <td>3.31</td>\n",
       "      <td>Male</td>\n",
       "      <td>No</td>\n",
       "      <td>Sun</td>\n",
       "      <td>Dinner</td>\n",
       "      <td>2</td>\n",
       "    </tr>\n",
       "    <tr>\n",
       "      <th>4</th>\n",
       "      <td>24.59</td>\n",
       "      <td>3.61</td>\n",
       "      <td>Female</td>\n",
       "      <td>No</td>\n",
       "      <td>Sun</td>\n",
       "      <td>Dinner</td>\n",
       "      <td>4</td>\n",
       "    </tr>\n",
       "  </tbody>\n",
       "</table>\n",
       "</div>"
      ],
      "text/plain": [
       "   total_bill   tip     sex smoker  day    time  size\n",
       "0       16.99  1.01  Female     No  Sun  Dinner     2\n",
       "1       10.34  1.66    Male     No  Sun  Dinner     3\n",
       "2       21.01  3.50    Male     No  Sun  Dinner     3\n",
       "3       23.68  3.31    Male     No  Sun  Dinner     2\n",
       "4       24.59  3.61  Female     No  Sun  Dinner     4"
      ]
     },
     "execution_count": 10,
     "metadata": {},
     "output_type": "execute_result"
    }
   ],
   "source": [
    "tips.head()"
   ]
  },
  {
   "cell_type": "markdown",
   "id": "d8562430-af54-434a-8907-c514a4a2299d",
   "metadata": {},
   "source": [
    "## Quick Intro to `matplotcheck`"
   ]
  },
  {
   "cell_type": "markdown",
   "id": "ea53a4eb-115c-4051-b05c-b5376653d53f",
   "metadata": {},
   "source": [
    "We'll start by looking at a quick example using the `tips` data set. We will create a simple `matplotlib` plot and use it to explore `matplotcheck`."
   ]
  },
  {
   "cell_type": "code",
   "execution_count": 27,
   "id": "03f3c140-e935-4985-b0e1-8fd3ad259e5c",
   "metadata": {
    "tags": []
   },
   "outputs": [
    {
     "data": {
      "text/html": [
       "<div>\n",
       "<style scoped>\n",
       "    .dataframe tbody tr th:only-of-type {\n",
       "        vertical-align: middle;\n",
       "    }\n",
       "\n",
       "    .dataframe tbody tr th {\n",
       "        vertical-align: top;\n",
       "    }\n",
       "\n",
       "    .dataframe thead th {\n",
       "        text-align: right;\n",
       "    }\n",
       "</style>\n",
       "<table border=\"1\" class=\"dataframe\">\n",
       "  <thead>\n",
       "    <tr style=\"text-align: right;\">\n",
       "      <th></th>\n",
       "      <th>sex</th>\n",
       "      <th>count</th>\n",
       "    </tr>\n",
       "  </thead>\n",
       "  <tbody>\n",
       "    <tr>\n",
       "      <th>0</th>\n",
       "      <td>Male</td>\n",
       "      <td>157</td>\n",
       "    </tr>\n",
       "    <tr>\n",
       "      <th>1</th>\n",
       "      <td>Female</td>\n",
       "      <td>87</td>\n",
       "    </tr>\n",
       "  </tbody>\n",
       "</table>\n",
       "</div>"
      ],
      "text/plain": [
       "      sex  count\n",
       "0    Male    157\n",
       "1  Female     87"
      ]
     },
     "execution_count": 27,
     "metadata": {},
     "output_type": "execute_result"
    }
   ],
   "source": [
    "example_df=tips[\"sex\"].value_counts().to_frame().reset_index()\n",
    "example_df.head()"
   ]
  },
  {
   "cell_type": "code",
   "execution_count": 28,
   "id": "38b09f2a-d9c5-4ae3-86b7-e1cd49b1aed7",
   "metadata": {},
   "outputs": [
    {
     "data": {
      "image/png": "[encoded data removed]",
      "text/plain": [
       "<Figure size 640x480 with 1 Axes>"
      ]
     },
     "metadata": {},
     "output_type": "display_data"
    }
   ],
   "source": [
    "plt.bar(example_df[\"sex\"], example_df[\"count\"])\n",
    "plt.title(\"Male and Female Patrons\")\n",
    "plt.xlabel(\"sex\")\n",
    "plt.ylabel(\"Count\")\n",
    "plt.show()"
   ]
  },
  {
   "cell_type": "markdown",
   "id": "ada2f86d-8d1b-410b-879e-696dbd9aa21e",
   "metadata": {},
   "source": [
    "Pretty simple. Now let's take a look at `matplotcheck`.\n",
    "\n",
    "\n",
    "By adding in the following line:\n",
    "\n",
    "```python\n",
    "plot_1_hold = nb.convert_axes(plt, which_axes=\"current\") \n",
    "```\n",
    "*Note that `plot_1_hold` is just a variable and can be replaced with any other name.*\n",
    "\n",
    "`matplotcheck` \"saves\" a copy of the plot so it can be autograded. *Make sure this is before the call to `plt.show()`*"
   ]
  },
  {
   "cell_type": "code",
   "execution_count": 33,
   "id": "568d1679-12e2-4462-93e3-38501926678a",
   "metadata": {
    "tags": []
   },
   "outputs": [
    {
     "data": {
      "image/png": "[encoded data removed]",
      "text/plain": [
       "<Figure size 640x480 with 1 Axes>"
      ]
     },
     "metadata": {},
     "output_type": "display_data"
    }
   ],
   "source": [
    "plt.bar(example_df[\"sex\"], example_df[\"count\"])\n",
    "plt.title(\"Male and Female Patrons\")\n",
    "plt.xlabel(\"sex\")\n",
    "plt.ylabel(\"Count\")\n",
    "\n",
    "plot_1_hold = nb.convert_axes(plt, which_axes=\"current\")\n",
    "plt.show()"
   ]
  },
  {
   "cell_type": "markdown",
   "id": "e18eeb9d-16d9-489a-b053-e84c4613a972",
   "metadata": {},
   "source": [
    "We can now begin to test the plot above. We start by creating a `PlotTester` object using our saved plot."
   ]
  },
  {
   "cell_type": "code",
   "execution_count": 34,
   "id": "0731ce07-9b7f-4177-bc79-0280445f5d05",
   "metadata": {
    "tags": []
   },
   "outputs": [],
   "source": [
    "plot_tester_1 = mpc.PlotTester(plot_1_hold)"
   ]
  },
  {
   "cell_type": "markdown",
   "id": "098c5cf2-503e-409b-9345-15f4cdf28fc2",
   "metadata": {},
   "source": [
    "`matplotcheck` allows for many different types of tests to be run. For example, we can test whether the plot is of the correct type. We can do this by using the `assert_plot_type` method. Currently, only bar, line, and scatter plots work."
   ]
  },
  {
   "cell_type": "code",
   "execution_count": 35,
   "id": "078b682c-0d7d-4e6f-a902-5177e14f81bb",
   "metadata": {
    "tags": []
   },
   "outputs": [],
   "source": [
    "plot_tester_1.assert_plot_type(\"bar\")"
   ]
  },
  {
   "cell_type": "markdown",
   "id": "a149c9c0-1fff-488e-a807-947a62ba4dae",
   "metadata": {},
   "source": [
    "We can see that by not getting an error, this plot is of the correct type. Let's see what would happen if the plot type was incorrect."
   ]
  },
  {
   "cell_type": "code",
   "execution_count": 36,
   "id": "ae67d937-46c1-4995-ac3a-68070cfdfccd",
   "metadata": {
    "tags": []
   },
   "outputs": [
    {
     "ename": "AssertionError",
     "evalue": "Plot is not of type line",
     "output_type": "error",
     "traceback": [
      "\u001b[1;31m---------------------------------------------------------------------------\u001b[0m",
      "\u001b[1;31mAssertionError\u001b[0m                            Traceback (most recent call last)",
      "Cell \u001b[1;32mIn[36], line 1\u001b[0m\n\u001b[1;32m----> 1\u001b[0m \u001b[43mplot_tester_1\u001b[49m\u001b[38;5;241;43m.\u001b[39;49m\u001b[43massert_plot_type\u001b[49m\u001b[43m(\u001b[49m\u001b[38;5;124;43m\"\u001b[39;49m\u001b[38;5;124;43mline\u001b[39;49m\u001b[38;5;124;43m\"\u001b[39;49m\u001b[43m)\u001b[49m\n",
      "File \u001b[1;32m~\\anaconda3\\envs\\engin7\\lib\\site-packages\\matplotcheck\\base.py:173\u001b[0m, in \u001b[0;36mPlotTester.assert_plot_type\u001b[1;34m(self, plot_type, message)\u001b[0m\n\u001b[0;32m    171\u001b[0m     \u001b[38;5;28;01massert\u001b[39;00m \u001b[38;5;28mself\u001b[39m\u001b[38;5;241m.\u001b[39max\u001b[38;5;241m.\u001b[39mpatches, message\u001b[38;5;241m.\u001b[39mformat(plot_type)\n\u001b[0;32m    172\u001b[0m \u001b[38;5;28;01melif\u001b[39;00m plot_type \u001b[38;5;241m==\u001b[39m \u001b[38;5;124m\"\u001b[39m\u001b[38;5;124mline\u001b[39m\u001b[38;5;124m\"\u001b[39m:\n\u001b[1;32m--> 173\u001b[0m     \u001b[38;5;28;01massert\u001b[39;00m \u001b[38;5;28mself\u001b[39m\u001b[38;5;241m.\u001b[39m_is_line(), message\u001b[38;5;241m.\u001b[39mformat(plot_type)\n\u001b[0;32m    174\u001b[0m \u001b[38;5;28;01melse\u001b[39;00m:\n\u001b[0;32m    175\u001b[0m     \u001b[38;5;28;01mraise\u001b[39;00m \u001b[38;5;167;01mValueError\u001b[39;00m(\n\u001b[0;32m    176\u001b[0m         \u001b[38;5;124m\"\u001b[39m\u001b[38;5;124mPlot_type to test must be either: scatter, bar or line\u001b[39m\u001b[38;5;124m\"\u001b[39m\n\u001b[0;32m    177\u001b[0m     )\n",
      "\u001b[1;31mAssertionError\u001b[0m: Plot is not of type line"
     ]
    }
   ],
   "source": [
    "plot_tester_1.assert_plot_type(\"line\")"
   ]
  },
  {
   "cell_type": "markdown",
   "id": "47a67692-2706-4664-a96a-9ddaec5522cb",
   "metadata": {},
   "source": [
    "Other features of `matplotcheck` include:\n",
    " * Checking title\n",
    " * Checking axis labels\n",
    " \n",
    "Because the workflow of these is similar, we'll combine them."
   ]
  },
  {
   "cell_type": "code",
   "execution_count": 37,
   "id": "1f8c99ad-2a1d-4440-9e63-c2317a5a5da5",
   "metadata": {
    "tags": []
   },
   "outputs": [],
   "source": [
    "plot_tester_1.assert_title_contains([\"Male\", \"and\", \"Female\", \"Patrons\"])\n",
    "plot_tester_1.assert_axis_label_contains(axis=\"x\", strings_expected=[\"sex\"])\n",
    "plot_tester_1.assert_axis_label_contains(axis=\"y\", strings_expected=[\"Count\"])"
   ]
  },
  {
   "cell_type": "markdown",
   "id": "d402e408-c590-4ec6-9a04-8587784a1156",
   "metadata": {},
   "source": [
    "The tests are not case sensitive."
   ]
  },
  {
   "cell_type": "code",
   "execution_count": 41,
   "id": "574b0f22-7e17-42ff-8ff3-d747d828f8e0",
   "metadata": {
    "tags": []
   },
   "outputs": [],
   "source": [
    "plot_tester_1.assert_axis_label_contains(axis=\"x\", strings_expected=[\"SEX\"])"
   ]
  },
  {
   "cell_type": "markdown",
   "id": "673968cd-1ff5-4dcd-bb79-0c8b8bd1301b",
   "metadata": {},
   "source": [
    "The title does not need to contain all of the expected string but will flag if the title does not contain the expected words."
   ]
  },
  {
   "cell_type": "code",
   "execution_count": 48,
   "id": "f640314d-4f56-407c-9bf3-6169a5a8c5b9",
   "metadata": {
    "tags": []
   },
   "outputs": [
    {
     "ename": "AssertionError",
     "evalue": "Title does not contain expected string: pineapple",
     "output_type": "error",
     "traceback": [
      "\u001b[1;31m---------------------------------------------------------------------------\u001b[0m",
      "\u001b[1;31mAssertionError\u001b[0m                            Traceback (most recent call last)",
      "Cell \u001b[1;32mIn[48], line 1\u001b[0m\n\u001b[1;32m----> 1\u001b[0m \u001b[43mplot_tester_1\u001b[49m\u001b[38;5;241;43m.\u001b[39;49m\u001b[43massert_title_contains\u001b[49m\u001b[43m(\u001b[49m\u001b[43mstrings_expected\u001b[49m\u001b[38;5;241;43m=\u001b[39;49m\u001b[38;5;124;43m\"\u001b[39;49m\u001b[38;5;124;43mpineapple\u001b[39;49m\u001b[38;5;124;43m\"\u001b[39;49m\u001b[43m)\u001b[49m\n",
      "File \u001b[1;32m~\\anaconda3\\envs\\engin7\\lib\\site-packages\\matplotcheck\\base.py:262\u001b[0m, in \u001b[0;36mPlotTester.assert_title_contains\u001b[1;34m(self, strings_expected, title_type, message_default, message_or, message_no_title)\u001b[0m\n\u001b[0;32m    255\u001b[0m     \u001b[38;5;28;01mraise\u001b[39;00m \u001b[38;5;167;01mValueError\u001b[39;00m(\n\u001b[0;32m    256\u001b[0m         \u001b[38;5;124m\"\u001b[39m\u001b[38;5;124mtitle_type must be one of the following \u001b[39m\u001b[38;5;124m\"\u001b[39m\n\u001b[0;32m    257\u001b[0m         \u001b[38;5;241m+\u001b[39m \u001b[38;5;124m'\u001b[39m\u001b[38;5;124m[\u001b[39m\u001b[38;5;124m\"\u001b[39m\u001b[38;5;124mfigure\u001b[39m\u001b[38;5;124m\"\u001b[39m\u001b[38;5;124m, \u001b[39m\u001b[38;5;124m\"\u001b[39m\u001b[38;5;124maxes\u001b[39m\u001b[38;5;124m\"\u001b[39m\u001b[38;5;124m, \u001b[39m\u001b[38;5;124m\"\u001b[39m\u001b[38;5;124meither\u001b[39m\u001b[38;5;124m\"\u001b[39m\u001b[38;5;124m]\u001b[39m\u001b[38;5;124m'\u001b[39m\n\u001b[0;32m    258\u001b[0m     )\n\u001b[0;32m    260\u001b[0m \u001b[38;5;28;01massert\u001b[39;00m title, message_no_title\n\u001b[1;32m--> 262\u001b[0m \u001b[38;5;28;43mself\u001b[39;49m\u001b[38;5;241;43m.\u001b[39;49m\u001b[43massert_string_contains\u001b[49m\u001b[43m(\u001b[49m\n\u001b[0;32m    263\u001b[0m \u001b[43m    \u001b[49m\u001b[43mtitle\u001b[49m\u001b[43m,\u001b[49m\n\u001b[0;32m    264\u001b[0m \u001b[43m    \u001b[49m\u001b[43mstrings_expected\u001b[49m\u001b[43m,\u001b[49m\n\u001b[0;32m    265\u001b[0m \u001b[43m    \u001b[49m\u001b[43mmessage_default\u001b[49m\u001b[38;5;241;43m=\u001b[39;49m\u001b[43mmessage_default\u001b[49m\u001b[43m,\u001b[49m\n\u001b[0;32m    266\u001b[0m \u001b[43m    \u001b[49m\u001b[43mmessage_or\u001b[49m\u001b[38;5;241;43m=\u001b[39;49m\u001b[43mmessage_or\u001b[49m\u001b[43m,\u001b[49m\n\u001b[0;32m    267\u001b[0m \u001b[43m\u001b[49m\u001b[43m)\u001b[49m\n",
      "File \u001b[1;32m~\\anaconda3\\envs\\engin7\\lib\\site-packages\\matplotcheck\\base.py:132\u001b[0m, in \u001b[0;36mPlotTester.assert_string_contains\u001b[1;34m(self, string, strings_expected, message_default, message_or)\u001b[0m\n\u001b[0;32m    130\u001b[0m \u001b[38;5;28;01mif\u001b[39;00m \u001b[38;5;28misinstance\u001b[39m(check, \u001b[38;5;28mstr\u001b[39m):\n\u001b[0;32m    131\u001b[0m     \u001b[38;5;28;01mif\u001b[39;00m \u001b[38;5;129;01mnot\u001b[39;00m check\u001b[38;5;241m.\u001b[39mlower()\u001b[38;5;241m.\u001b[39mreplace(\u001b[38;5;124m\"\u001b[39m\u001b[38;5;124m \u001b[39m\u001b[38;5;124m\"\u001b[39m, \u001b[38;5;124m\"\u001b[39m\u001b[38;5;124m\"\u001b[39m) \u001b[38;5;129;01min\u001b[39;00m string:\n\u001b[1;32m--> 132\u001b[0m         \u001b[38;5;28;01mraise\u001b[39;00m \u001b[38;5;167;01mAssertionError\u001b[39;00m(message_default\u001b[38;5;241m.\u001b[39mformat(check))\n\u001b[0;32m    133\u001b[0m \u001b[38;5;28;01melif\u001b[39;00m \u001b[38;5;28misinstance\u001b[39m(check, \u001b[38;5;28mlist\u001b[39m):\n\u001b[0;32m    134\u001b[0m     \u001b[38;5;28;01mif\u001b[39;00m \u001b[38;5;129;01mnot\u001b[39;00m \u001b[38;5;28many\u001b[39m(\n\u001b[0;32m    135\u001b[0m         [c\u001b[38;5;241m.\u001b[39mlower()\u001b[38;5;241m.\u001b[39mreplace(\u001b[38;5;124m\"\u001b[39m\u001b[38;5;124m \u001b[39m\u001b[38;5;124m\"\u001b[39m, \u001b[38;5;124m\"\u001b[39m\u001b[38;5;124m\"\u001b[39m) \u001b[38;5;129;01min\u001b[39;00m string \u001b[38;5;28;01mfor\u001b[39;00m c \u001b[38;5;129;01min\u001b[39;00m check]\n\u001b[0;32m    136\u001b[0m     ):\n",
      "\u001b[1;31mAssertionError\u001b[0m: Title does not contain expected string: pineapple"
     ]
    }
   ],
   "source": [
    "plot_tester_1.assert_title_contains(strings_expected=\"pineapple\")"
   ]
  },
  {
   "cell_type": "markdown",
   "id": "26813b55-fae8-425c-84de-5412ffba2051",
   "metadata": {},
   "source": [
    "There is also an option to check that the data in the plot is correct."
   ]
  },
  {
   "cell_type": "code",
   "execution_count": 53,
   "id": "dc994092-628b-4f11-919c-7af43875fc73",
   "metadata": {
    "tags": []
   },
   "outputs": [],
   "source": [
    "expected_data = pd.DataFrame(\n",
    "    {\"sex\": [\"Male\", \"Female\"], \"count\": [157,87]}\n",
    ")\n",
    "\n",
    "plot_tester_1.assert_xydata(\n",
    "    expected_data, xcol=\"sex\", ycol=\"count\", xlabels=True\n",
    ")"
   ]
  },
  {
   "cell_type": "markdown",
   "id": "35493fbb-9004-41a0-959e-c504ac541983",
   "metadata": {},
   "source": [
    "## `matplotcheck` and `otter`"
   ]
  },
  {
   "cell_type": "markdown",
   "id": "f7b7be05-0764-4ffe-a239-18d1146da39c",
   "metadata": {},
   "source": [
    "The workflow with `otter` will look something like this:"
   ]
  },
  {
   "cell_type": "markdown",
   "id": "e1d29f23-70d3-4bd5-9f77-9b1b7d2951d8",
   "metadata": {},
   "source": [
    "```raw\n",
    "# BEGIN QUESTION\n",
    "name: q2.4\n",
    "```\n",
    "\n",
    "\n",
    "Note that this *does not* have the \n",
    "\n",
    "```raw\n",
    "manual: true\n",
    "```\n",
    "\n",
    "tag in the question config."
   ]
  },
  {
   "cell_type": "markdown",
   "id": "afa2966e-b708-4d6e-b83b-32996ada542a",
   "metadata": {},
   "source": [
    "**Question 2.4:** Plot a bar chart of Male and Female patrons. \n",
    "\n",
    "Your plot should have:\n",
    " * An x-axis labeled as `sex`\n",
    " * A y-axis labeled as `Count`\n",
    " * A title `Male and Female Patrons`"
   ]
  },
  {
   "cell_type": "markdown",
   "id": "4ac70b49-706c-4ca5-a5b3-571591564a95",
   "metadata": {},
   "source": [
    "```raw\n",
    "# BEGIN SOLUTION\n",
    "```"
   ]
  },
  {
   "cell_type": "code",
   "execution_count": 54,
   "id": "80686db7-536a-4460-bc3e-a66cc727618b",
   "metadata": {
    "tags": []
   },
   "outputs": [
    {
     "data": {
      "image/png": "[encoded data removed]",
      "text/plain": [
       "<Figure size 640x480 with 1 Axes>"
      ]
     },
     "metadata": {},
     "output_type": "display_data"
    }
   ],
   "source": [
    "# BEGIN SOLUTION\n",
    "plt.bar(example_df[\"sex\"], example_df[\"count\"])\n",
    "plt.title(\"Male and Female Patrons\")\n",
    "plt.xlabel(\"sex\")\n",
    "plt.ylabel(\"Count\")\n",
    "\n",
    "# END SOLUTION\n",
    "plot_1_hold = nb.convert_axes(plt, which_axes=\"current\")\n",
    "plt.show()"
   ]
  },
  {
   "cell_type": "markdown",
   "id": "3d85e3a2-3f67-422d-a188-774f620a6627",
   "metadata": {},
   "source": [
    "```raw\n",
    "# END SOLUTION\n",
    "```"
   ]
  },
  {
   "cell_type": "markdown",
   "id": "4f13b301-4369-44f0-8c73-0c71f9662218",
   "metadata": {},
   "source": [
    "```raw\n",
    "# BEGIN TESTS\n",
    "```"
   ]
  },
  {
   "cell_type": "code",
   "execution_count": 55,
   "id": "45a0a501-e74f-45c4-aac9-4ce840551b0a",
   "metadata": {
    "tags": []
   },
   "outputs": [],
   "source": [
    "plot_tester_1 = mpc.PlotTester(plot_1_hold)\n",
    "plot_tester_1.assert_plot_type(\"bar\")\n",
    "plot_tester_1.assert_title_contains([\"Male\", \"and\", \"Female\", \"Patrons\"])\n",
    "plot_tester_1.assert_axis_label_contains(axis=\"x\", strings_expected=[\"sex\"])\n",
    "plot_tester_1.assert_axis_label_contains(axis=\"y\", strings_expected=[\"Count\"])\n",
    "expected_data = pd.DataFrame(\n",
    "    {\"sex\": [\"Male\", \"Female\"], \"count\": [157,87]}\n",
    ")\n",
    "\n",
    "plot_tester_1.assert_xydata(\n",
    "    expected_data, xcol=\"sex\", ycol=\"count\", xlabels=True\n",
    ")"
   ]
  },
  {
   "cell_type": "markdown",
   "id": "2c8546a7-451f-4f29-b325-25460fb79e81",
   "metadata": {},
   "source": [
    "```raw\n",
    "# END TESTS\n",
    "```"
   ]
  },
  {
   "cell_type": "markdown",
   "id": "d748e2ee-e58c-4149-a608-0cf92408fe9e",
   "metadata": {},
   "source": [
    "```raw\n",
    "# END QUESTION\n",
    "```"
   ]
  },
  {
   "cell_type": "markdown",
   "id": "9b17d058-9bd2-454e-b0eb-a6f6e3a3c223",
   "metadata": {},
   "source": [
    "That's pretty much it. \n",
    "\n",
    "Notes:\n",
    "* `matplotcheck` has been tested to work on the student facing notebook autograder but has not been tested on the Gradescope side. "
   ]
  }
 ],
 "metadata": {
  "kernelspec": {
   "display_name": "Python 3 (ipykernel)",
   "language": "python",
   "name": "python3"
  },
  "language_info": {
   "codemirror_mode": {
    "name": "ipython",
    "version": 3
   },
   "file_extension": ".py",
   "mimetype": "text/x-python",
   "name": "python",
   "nbconvert_exporter": "python",
   "pygments_lexer": "ipython3",
   "version": "3.9.16"
  }
 },
 "nbformat": 4,
 "nbformat_minor": 5
}
